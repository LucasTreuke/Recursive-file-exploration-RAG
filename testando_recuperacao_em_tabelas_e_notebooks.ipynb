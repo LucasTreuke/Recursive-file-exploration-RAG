{
 "cells": [
  {
   "cell_type": "code",
   "execution_count": 1,
   "metadata": {},
   "outputs": [],
   "source": [
    "data_path = \"./data/Rotten Tomatoes Movies.csv\"\n",
    "image_path = \"./base de conhecimento 2/Valles Marineris.jpeg\"\n",
    "notebook_path = \"./base de conhecimento 2/notebooks/analise_meteorologica.ipynb\""
   ]
  },
  {
   "cell_type": "code",
   "execution_count": 2,
   "metadata": {},
   "outputs": [],
   "source": [
    "from file_interaction import DataReaderAgent, NotebookReaderAgent, ImageReaderAgent"
   ]
  },
  {
   "cell_type": "code",
   "execution_count": 3,
   "metadata": {},
   "outputs": [],
   "source": [
    "# utilizando o gpt\n",
    "from langchain_openai import ChatOpenAI\n",
    "\n",
    "gpt = ChatOpenAI(model=\"gpt-4o-mini\")"
   ]
  },
  {
   "cell_type": "code",
   "execution_count": 4,
   "metadata": {},
   "outputs": [],
   "source": [
    "# utilizando o llama3.1 8b\n",
    "from langchain_ollama import ChatOllama\n",
    "\n",
    "llama3 = ChatOllama(\n",
    "    model=\"llama3.1:8b\",\n",
    "    temperature=0,\n",
    "    format='json'\n",
    ")"
   ]
  },
  {
   "cell_type": "markdown",
   "metadata": {},
   "source": [
    "## Data files"
   ]
  },
  {
   "cell_type": "code",
   "execution_count": 5,
   "metadata": {},
   "outputs": [],
   "source": [
    "from utils import State\n",
    "# Um estado inicial para preencher o contexto\n",
    "state = {\n",
    "    \"main_prompt\": \"The objective is to provide the necessary result to answer the specific query\",\n",
    "    \"dynamic_context\": \"\"\n",
    "}\n",
    "state = State(**state)\n",
    "\n",
    "data_agent_gpt = DataReaderAgent(gpt, \"./prompts/context_from_dataframe.jinja2\")\n",
    "data_agent_llama3 = DataReaderAgent(llama3, \"./prompts/context_from_dataframe.jinja2\")"
   ]
  },
  {
   "cell_type": "code",
   "execution_count": 7,
   "metadata": {},
   "outputs": [
    {
     "name": "stdout",
     "output_type": "stream",
     "text": [
      "Prompt: What is the most well tomatometer rated movie from the most recent year in the data?\n",
      "Using GPT-4o-mini\n",
      "SQL: SELECT movie_title, tomatometer_rating FROM rotten_tomatoes_movies_table WHERE strftime('%Y', in_theaters_date) = (SELECT MAX(strftime('%Y', in_theaters_date)) FROM rotten_tomatoes_movies_table) ORDER BY tomatometer_rating DESC LIMIT 1;\n",
      "Result: movie_title  tomatometer_rating\n",
      "0          5B                 100\n",
      "\n",
      "\n",
      "Using llama3.1 8b\n",
      "Prompt: What is the most well tomatometer rated movie from the most recent year in the data?\n",
      "SQL: SELECT movie_title, tomatometer_rating FROM rotten_tomatoes_movies_table WHERE YEAR(in_theaters_date) = ( SELECT MAX(YEAR(in_theaters_date)) FROM rotten_tomatoes_movies_table ) ORDER BY tomatometer_rating DESC LIMIT 1;\n",
      "Result: An error occurred while executing the query: (sqlite3.OperationalError) no such function: YEAR\n",
      "[SQL: SELECT movie_title, tomatometer_rating FROM local_df_variable WHERE YEAR(in_theaters_date) = ( SELECT MAX(YEAR(in_theaters_date)) FROM local_df_variable ) ORDER BY tomatometer_rating DESC LIMIT 1;]\n",
      "(Background on this error at: https://sqlalche.me/e/20/e3q8)\n",
      "\n",
      "Please consider giving feedback on the answer so that the problem won't happen again.\n",
      "\n",
      "\n",
      "Prompt: What is the oldest year in the data?\n",
      "Using GPT-4o-mini\n",
      "SQL: SELECT MIN(strftime('%Y', in_theaters_date)) AS oldest_year FROM rotten_tomatoes_movies_table;\n",
      "Result: oldest_year\n",
      "0        1914\n",
      "\n",
      "\n",
      "Using llama3.1 8b\n",
      "Prompt: What is the oldest year in the data?\n",
      "SQL: SELECT MIN(in_theaters_date) FROM rotten_tomatoes_movies_table;\n",
      "Result: MIN(in_theaters_date)\n",
      "0            1914-06-01\n",
      "\n",
      "\n",
      "Prompt: What is the movie with the highest tomatometer rating in the data?\n",
      "Using GPT-4o-mini\n",
      "SQL: SELECT movie_title, tomatometer_rating FROM rotten_tomatoes_movies_table ORDER BY tomatometer_rating DESC LIMIT 1;\n",
      "Result: movie_title  tomatometer_rating\n",
      "0  12 Angry Men (Twelve Angry Men)                 100\n",
      "\n",
      "\n",
      "Using llama3.1 8b\n",
      "Prompt: What is the movie with the highest tomatometer rating in the data?\n",
      "SQL: SELECT movie_title, tomatometer_rating FROM rotten_tomatoes_movies_table ORDER BY tomatometer_rating DESC LIMIT 1;\n",
      "Result: movie_title  tomatometer_rating\n",
      "0  12 Angry Men (Twelve Angry Men)                 100\n",
      "\n",
      "\n",
      "Prompt: What is the movie with the lowest tomatometer rating in the data?\n",
      "Using GPT-4o-mini\n",
      "SQL: SELECT movie_title, tomatometer_rating FROM rotten_tomatoes_movies_table ORDER BY tomatometer_rating ASC LIMIT 1;\n",
      "Result: movie_title  tomatometer_rating\n",
      "0       Whore                   0\n",
      "\n",
      "\n",
      "Using llama3.1 8b\n",
      "Prompt: What is the movie with the lowest tomatometer rating in the data?\n",
      "SQL: SELECT movie_title, tomatometer_rating FROM rotten_tomatoes_movies_table ORDER BY tomatometer_rating ASC LIMIT 1;\n",
      "Result: movie_title  tomatometer_rating\n",
      "0       Whore                   0\n",
      "\n",
      "\n",
      "Prompt: What director has the most movies in the data?\n",
      "Using GPT-4o-mini\n",
      "SQL: SELECT directors, COUNT(*) AS movie_count FROM rotten_tomatoes_movies_table GROUP BY directors ORDER BY movie_count DESC LIMIT 1;\n",
      "Result: directors  movie_count\n",
      "0       nan          114\n",
      "\n",
      "\n",
      "Using llama3.1 8b\n",
      "Prompt: What director has the most movies in the data?\n",
      "SQL: SELECT directors, COUNT(*) AS movie_count FROM rotten_tomatoes_movies_table GROUP BY directors ORDER BY movie_count DESC LIMIT 1;\n",
      "Result: directors  movie_count\n",
      "0       nan          114\n",
      "\n",
      "\n"
     ]
    }
   ],
   "source": [
    "prompts = [\n",
    "    \"What is the most well tomatometer rated movie from the most recent year in the data?\",\n",
    "    \"What is the oldest year in the data?\",\n",
    "    \"What is the movie with the highest tomatometer rating in the data?\",\n",
    "    \"What is the movie with the lowest tomatometer rating in the data?\",\n",
    "    \"What director has the most movies in the data?\",\n",
    "]\n",
    "\n",
    "for prompt in prompts:\n",
    "    answer = data_agent_gpt.get_context_from_file(prompt, data_path, state)\n",
    "    result = answer.split(\"and the result of the query is:\")[1].strip()\n",
    "    sql = answer.split(\"```sql\")[1].split(\"```\")[0].strip()\n",
    "    print(f\"Prompt: {prompt}\")\n",
    "    print(\"Using GPT-4o-mini\")\n",
    "    print(f\"SQL: {sql}\")\n",
    "    print(f\"Result: {result}\")\n",
    "    print(\"\\n\")\n",
    "    answer = data_agent_llama3.get_context_from_file(prompt, data_path, state)\n",
    "    result = answer.split(\"and the result of the query is:\")[1].strip()\n",
    "    sql = answer.split(\"```sql\")[1].split(\"```\")[0].strip()\n",
    "    print(\"Using llama3.1 8b\")\n",
    "    print(f\"Prompt: {prompt}\")\n",
    "    print(f\"SQL: {sql}\")\n",
    "    print(f\"Result: {result}\")\n",
    "    print(\"\\n\")"
   ]
  },
  {
   "cell_type": "markdown",
   "metadata": {},
   "source": [
    "## Images"
   ]
  },
  {
   "cell_type": "code",
   "execution_count": 5,
   "metadata": {},
   "outputs": [
    {
     "name": "stdout",
     "output_type": "stream",
     "text": [
      "\n",
      "        [[Visual Analysis of the image at ./base de conhecimento 2/Valles Marineris.jpeg]]\n",
      "        \n",
      "            Prompt: 'I want every detail related to the landing from this image'\n",
      "            \n",
      "            Result:\n",
      "            To analyze the image related to the Noctis Landing on Mars, the following details can be extracted:\n",
      "\n",
      "1. **Location**: \n",
      "   - The image depicts the Noctis Landing site, indicated by a black dot within an oval. This is situated in the Noctis Labyrinthus region, which is characterized by its complex series of valleys and canyons.\n",
      "\n",
      "2. **Surrounding Geological Features**:\n",
      "   - **Tharsis**: A large volcanic region to the north, known for its massive volcanoes.\n",
      "   - **Valles Marineris**: A prominent canyon system, one of the largest in the solar system, located to the right of the landing site.\n",
      "   - **Chasmas**: \n",
      "     - **Tithonium Chasma** and **Ius Chasma** are specific valleys that are part of the Valles Marineris system, which may provide insights into geological processes.\n",
      "   - **Oudemans**: A crater located to the southwest of the landing site.\n",
      "   - **Sinai Planum**: A plain to the southeast of the Noctis Landing area.\n",
      "\n",
      "3. **Geological Context**:\n",
      "   - The Noctis Labyrinthus region is known for its unique terrain that includes deep valleys and ridges, suggesting a complex geological history that might be relevant for understanding Mars' past climate and potential for past life.\n",
      "\n",
      "4. **Potential Scientific Objectives**:\n",
      "   - Investigating the geological features surrounding Noctis Landing could provide valuable information about the history of water on Mars, tectonic activity, and volcanic processes.\n",
      "   - Studying the stratigraphy of the area may reveal insights into the planet's climatic changes.\n",
      "\n",
      "5. **Landing Considerations**:\n",
      "   - The rugged terrain indicated in the image suggests that any landing would need to account for potential hazards, such as steep cliffs or uneven surfaces.\n",
      "\n",
      "By focusing on these details, one can gather insights into the significance of the Noctis Landing site and its broader implications for Mars exploration.\n",
      "            \n",
      "        [[End of Visual Analysis]]\n",
      "        \n"
     ]
    }
   ],
   "source": [
    "from utils import State\n",
    "# Um estado inicial para preencher o contexto\n",
    "state = {\n",
    "    \"main_prompt\": \"The objective is to understant everything we can about the landing\",\n",
    "    \"dynamic_context\": \"\"\n",
    "}\n",
    "state = State(**state)\n",
    "\n",
    "image_agent_gpt = ImageReaderAgent(gpt, '')\n",
    "\n",
    "relevant_content = image_agent_gpt.get_context_from_file(\"I want every detail related to the landing from this image\", image_path, state)\n",
    "print(relevant_content)"
   ]
  },
  {
   "cell_type": "markdown",
   "metadata": {},
   "source": [
    "## Notebooks"
   ]
  },
  {
   "cell_type": "markdown",
   "metadata": {},
   "source": [
    "Buscando no notebook, um entendimento sobre a relação de temperatura e geolocalização"
   ]
  },
  {
   "cell_type": "code",
   "execution_count": 5,
   "metadata": {},
   "outputs": [],
   "source": [
    "from utils import State\n",
    "# Um estado inicial para preencher o contexto\n",
    "state = {\n",
    "    \"main_prompt\": \"The objective is to understant how the temperature correlates with the coordinates\",\n",
    "    \"dynamic_context\": \"\"\n",
    "}\n",
    "state = State(**state)\n",
    "\n",
    "notebook_agent_gpt = NotebookReaderAgent(gpt, \"./prompts/context_from_notebook_file.jinja2\")"
   ]
  },
  {
   "cell_type": "code",
   "execution_count": 6,
   "metadata": {},
   "outputs": [],
   "source": [
    "relevant_content = notebook_agent_gpt.get_context_from_file(specific_prompt=\"I want to know whats the relationship between temperature and coordinates\", file_path=notebook_path, state=state)"
   ]
  },
  {
   "cell_type": "code",
   "execution_count": 9,
   "metadata": {},
   "outputs": [
    {
     "name": "stdout",
     "output_type": "stream",
     "text": [
      "The analysis in the notebook includes loading meteorological data that contains temperatures recorded at different locations. It emphasizes understanding temperature variations by location, as multiple sensors provide data from various places on different dates. The notebook includes visualizations such as:\n",
      "\n",
      "1. A plot of temperature over time, showing how temperature varies through the recorded dates.\n",
      "2. A scatter plot that displays temperature variations based on coordinates (longitude and latitude), where the color of the points represents temperature. This visualization directly relates to the relationship between temperature and coordinates.\n",
      "3. A heatmap generated from the temperature data across coordinates, providing a more continuous representation of temperature distribution over the geographical area.\n",
      "\n",
      "These visualizations help illustrate how temperature correlates with specific coordinates, indicating spatial temperature patterns.\n",
      "\n",
      "[description of image with figure_id = figure_0]\n",
      " prompt:\n",
      "        Describe the image image, with figure_id = figure_0 and focus on bringing insights that are possible to get from the image interpretation and answer the following question:\n",
      "        What does this plot reveal about the temperature variation over time?\n",
      "        \n",
      "\n",
      "result:\n",
      "The plot titled \"Variação de Temperatura\" shows temperature variation over a three-day period from December 1 to December 3, 2024, measured in degrees Celsius. Here are some insights based on the interpretation of the image:\n",
      "\n",
      "1. **Significant Fluctuations**: The temperature experiences drastic fluctuations, particularly a sharp drop around December 1, reaching a low of approximately -52°C. This suggests an extreme weather event or anomaly.\n",
      "\n",
      "2. **Rapid Recovery and Stability**: Following the sharp drop, the temperature rises again but remains around -40°C, indicating a brief recovery before stabilizing. \n",
      "\n",
      "3. **Consistent Low Temperatures**: Throughout the observed period, the temperatures remain predominantly below -40°C, indicating a consistently cold environment.\n",
      "\n",
      "4. **Potential Anomalies**: The abrupt changes might point to data collection issues or significant environmental changes, such as the onset of a cold front or other meteorological phenomena.\n",
      "\n",
      "Overall, the plot reveals that the temperature variation over this short time frame is extreme and highlights the potential for severe cold conditions. \n",
      "[end of image description]\n",
      "\n",
      "\n",
      "\n",
      "[description of image with figure_id = figure_1]\n",
      " prompt:\n",
      "        Describe the image image, with figure_id = figure_1 and focus on bringing insights that are possible to get from the image interpretation and answer the following question:\n",
      "        What insights does this plot provide about the average temperature over time?\n",
      "        \n",
      "\n",
      "result:\n",
      "The plot titled \"Média de Temperatura ao Longo do Tempo\" shows the average temperature in degrees Celsius over a short time frame from December 1 to December 3, 2024. \n",
      "\n",
      "### Insights from the Plot:\n",
      "\n",
      "1. **Temperature Stability**: Between December 1 and December 2, the average temperature remains relatively stable, fluctuating around -44.32°C. This indicates a period of consistent temperature without significant changes.\n",
      "\n",
      "2. **Sharp Increase**: A notable increase in temperature occurs after December 2, with the temperature rising sharply to approximately -44.22°C by December 3. This suggests a sudden change in environmental conditions or an event influencing the temperature.\n",
      "\n",
      "3. **Time Frame**: The plotted time frame is quite short, which implies that the observed temperature change is rapid and may warrant further investigation into the causes of this abrupt shift.\n",
      "\n",
      "4. **Negative Temperatures**: The entire range of temperatures is below freezing, which could be significant in understanding the climate or weather patterns in the observed region.\n",
      "\n",
      "### Conclusion:\n",
      "This plot reveals a significant temperature change over a brief period, highlighting the need to explore the factors contributing to this increase. It may reflect seasonal changes, weather events, or anomalies that could be relevant for climate studies or environmental assessments. \n",
      "[end of image description]\n",
      "\n",
      "\n",
      "\n",
      "[description of image with figure_id = figure_2]\n",
      " prompt:\n",
      "        Describe the image image, with figure_id = figure_2 and focus on bringing insights that are possible to get from the image interpretation and answer the following question:\n",
      "        What does this scatter plot indicate about the relationship between temperature and geographic coordinates?\n",
      "        \n",
      "\n",
      "result:\n",
      "The scatter plot titled \"Variação de Temperatura\" shows the relationship between geographic coordinates (longitude and latitude) and temperature, represented by varying colors of the data points.\n",
      "\n",
      "### Insights from the Scatter Plot:\n",
      "\n",
      "1. **Positive Correlation**: There is a noticeable upward trend in the scatter plot, indicating a positive correlation between longitude and latitude. As the longitude increases, the latitude also tends to increase.\n",
      "\n",
      "2. **Temperature Variation**: The color gradient from blue to red suggests a variation in temperature, with lighter shades representing lower temperatures and darker shades indicating higher temperatures. This indicates that specific geographic coordinates correspond to distinct temperature ranges.\n",
      "\n",
      "3. **Geographic Influence**: The concentration of data points suggests that certain geographic areas (at higher latitudes and longitudes) tend to experience higher temperatures, while regions with lower values in both dimensions exhibit cooler temperatures.\n",
      "\n",
      "### Conclusion about the Relationship:\n",
      "\n",
      "The scatter plot indicates that as geographic coordinates (longitude and latitude) increase, there is a corresponding increase in temperature. This pattern suggests that geographic factors play a significant role in temperature distribution, potentially influenced by factors such as climate zones, elevation, and proximity to bodies of water. \n",
      "[end of image description]\n",
      "\n",
      "\n",
      "\n",
      "[description of image with figure_id = figure_3]\n",
      " prompt:\n",
      "        Describe the image image, with figure_id = figure_3 and focus on bringing insights that are possible to get from the image interpretation and answer the following question:\n",
      "        What information can be inferred from this heatmap regarding temperature distribution across coordinates?\n",
      "        \n",
      "\n",
      "result:\n",
      "The heatmap shows the variation of temperature across different geographical coordinates, with latitude on the vertical axis and longitude on the horizontal axis. The color gradient ranges from blue to red, indicating temperature values, with blue representing lower temperatures and red representing higher temperatures.\n",
      "\n",
      "### Insights from the Heatmap:\n",
      "\n",
      "1. **Temperature Gradient**:\n",
      "   - The gradient indicates a clear transition from lower temperatures (blue) to higher temperatures (red) as one moves from left to right across the longitude axis.\n",
      "\n",
      "2. **Geographical Distribution**:\n",
      "   - Higher temperatures are observed at the upper right section of the map, suggesting that this area (higher latitude and longitude) experiences warmer conditions, while the lower temperatures are found in the lower left section.\n",
      "\n",
      "3. **Temperature Range**:\n",
      "   - The temperature values range from approximately -52°C to 38°C, indicating a significant variation that may be influenced by geographical factors such as elevation, proximity to water bodies, or urban heat effects.\n",
      "\n",
      "4. **Potential Climate Patterns**:\n",
      "   - The distribution may reflect broader climatic patterns in the region, suggesting that as one travels east or north, temperatures tend to increase.\n",
      "\n",
      "### Inference on Temperature Distribution:\n",
      "From the heatmap, it can be inferred that there is a systematic increase in temperature across the specified coordinates, with clear hotspots that could be further investigated for environmental or climatic studies. This information could be valuable for understanding local weather patterns, climate change effects, or planning for agricultural and urban development. \n",
      "[end of image description]\n",
      "\n",
      "\n"
     ]
    }
   ],
   "source": [
    "print(relevant_content)"
   ]
  },
  {
   "cell_type": "code",
   "execution_count": null,
   "metadata": {},
   "outputs": [],
   "source": []
  }
 ],
 "metadata": {
  "kernelspec": {
   "display_name": "Python 3",
   "language": "python",
   "name": "python3"
  },
  "language_info": {
   "codemirror_mode": {
    "name": "ipython",
    "version": 3
   },
   "file_extension": ".py",
   "mimetype": "text/x-python",
   "name": "python",
   "nbconvert_exporter": "python",
   "pygments_lexer": "ipython3",
   "version": "3.12.1"
  }
 },
 "nbformat": 4,
 "nbformat_minor": 2
}
